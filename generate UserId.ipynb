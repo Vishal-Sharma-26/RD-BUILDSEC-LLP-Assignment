{
 "cells": [
  {
   "cell_type": "code",
   "execution_count": 1,
   "id": "1241e561-a753-4ad9-a452-0dc70d48bef9",
   "metadata": {},
   "outputs": [],
   "source": [
    "import requests\n",
    "import jwt\n",
    "import json\n",
    "import base64\n",
    "from requests.auth import HTTPBasicAuth"
   ]
  },
  {
   "cell_type": "code",
   "execution_count": 8,
   "id": "c83290e8-5509-4339-99b1-92a011cc900d",
   "metadata": {},
   "outputs": [],
   "source": [
    "# Step 1: Obtain Access Token\n",
    "def get_access_token(consumer_key, consumer_secret):\n",
    "    token_url = \"https://napi.kotaksecurities.com/oauth2/token\"  # Replace with the actual token URL\n",
    "    headers = {\n",
    "        \"Content-Type\": \"application/x-www-form-urlencoded\"\n",
    "    }\n",
    "    payload = {\n",
    "        \"grant_type\": \"client_credentials\"\n",
    "    }\n",
    "    response = requests.post(token_url, headers=headers, data=payload, auth=HTTPBasicAuth(consumer_key, consumer_secret))\n",
    "    if response.status_code == 200:\n",
    "        token_data = response.json()\n",
    "        return token_data.get(\"access_token\")\n",
    "    else:\n",
    "        print(\"Failed to get access token:\", response.status_code, response.text)\n",
    "        return None"
   ]
  },
  {
   "cell_type": "code",
   "execution_count": 15,
   "id": "08cb3a57-bb59-4b05-bf07-ebda65a7abd6",
   "metadata": {},
   "outputs": [],
   "source": [
    "# Step 2: Generate View Token\n",
    "def get_view_token(access_token, mobile_number, password):\n",
    "    url = \"https://gw-napi.kotaksecurities.com/login/1.0/login/v2/validate\"\n",
    "    headers = {\n",
    "        \"Authorization\": f\"Bearer {access_token}\",\n",
    "        \"Content-Type\": \"application/json\"\n",
    "    }\n",
    "    body = {\n",
    "        \"mobileNumber\": mobile_number,\n",
    "        \"password\": password\n",
    "    }\n",
    "    response = requests.post(url, headers=headers, json=body)\n",
    "    if response.status_code == 201:  # Assuming 201 is the correct status code for success\n",
    "        response_data = response.json()[\"data\"]  # Extracting data from the response\n",
    "        view_token = response_data.get(\"token\")\n",
    "        sid = response_data.get(\"sid\")\n",
    "        return view_token, sid, response_data\n",
    "    else:\n",
    "        print(\"Failed to get view token and session ID:\", response.status_code, response.text)\n",
    "        return None, None, None"
   ]
  },
  {
   "cell_type": "code",
   "execution_count": 16,
   "id": "074ad4ba-8e44-4c36-b00c-d67e923b1ebc",
   "metadata": {},
   "outputs": [],
   "source": [
    "# Step 3: Correct padding for JWT and decode to get User ID\n",
    "def decode_jwt(view_token):\n",
    "    def add_padding(token):\n",
    "        return token + '=' * (4 - len(token) % 4)\n",
    "    \n",
    "    segments = view_token.split('.')\n",
    "    if len(segments) != 3:\n",
    "        raise ValueError('Token structure incorrect')\n",
    "\n",
    "    header_segment = add_padding(segments[0])\n",
    "    payload_segment = add_padding(segments[1])\n",
    "    \n",
    "    try:\n",
    "        header = json.loads(base64.urlsafe_b64decode(header_segment))\n",
    "        payload = json.loads(base64.urlsafe_b64decode(payload_segment))\n",
    "    except Exception as e:\n",
    "        raise ValueError('Error decoding token: ' + str(e))\n",
    "    \n",
    "    user_id = payload.get(\"sub\")\n",
    "    return user_id"
   ]
  },
  {
   "cell_type": "code",
   "execution_count": 17,
   "id": "c739cf14-1c90-435b-b6f5-bf3711bcc815",
   "metadata": {},
   "outputs": [],
   "source": [
    "# Step 4: Generate OTP\n",
    "def generate_otp(user_id):\n",
    "    otp_url = \"https://gw-napi.kotaksecurities.com/login/1.0/login/otp/generate\"\n",
    "    otp_body = {\n",
    "        \"userId\": user_id,\n",
    "        \"sendEmail\": True,\n",
    "        \"isWhitelisted\": True\n",
    "    }\n",
    "    otp_response = requests.post(otp_url, json=otp_body)\n",
    "    if otp_response.status_code == 200:\n",
    "        print(\"OTP Generation Response:\", otp_response.json())\n",
    "        otp = input(\"Enter the OTP you received: \")\n",
    "        return otp\n",
    "    else:\n",
    "        print(\"Failed to generate OTP:\", otp_response.status_code, otp_response.text)\n",
    "        return None"
   ]
  },
  {
   "cell_type": "code",
   "execution_count": 18,
   "id": "dd1025aa-1711-418e-9579-9f7da9a53688",
   "metadata": {},
   "outputs": [],
   "source": [
    "# Step 5: Generate Final Session Token\n",
    "def generate_final_session_token(sid, token, access_token, user_id, otp):\n",
    "    login_url = \"https://gw-napi.kotaksecurities.com/login/1.0/login/v2/validate\"\n",
    "    headers = {\n",
    "        \"Sid\": sid,\n",
    "        \"Auth\": token,\n",
    "        \"Authorization\": f\"Bearer {access_token}\",\n",
    "        \"Content-Type\": \"application/json\"\n",
    "    }\n",
    "    login_body = {\n",
    "        \"userId\": user_id,\n",
    "        \"otp\": otp\n",
    "    }\n",
    "    login_response = requests.post(login_url, headers=headers, json=login_body)\n",
    "    if login_response.status_code == 200:\n",
    "        final_session_data = login_response.json()\n",
    "        print(\"Final Session Token Response:\", final_session_data)\n",
    "    else:\n",
    "        print(\"Failed to generate final session token:\", login_response.status_code, login_response.text)"
   ]
  },
  {
   "cell_type": "code",
   "execution_count": 19,
   "id": "ed2ccb58-b562-463b-b523-6a0616021a85",
   "metadata": {},
   "outputs": [
    {
     "name": "stdout",
     "output_type": "stream",
     "text": [
      "User ID: dd8508b3-d49f-4d32-8e17-c46d0d33f450\n",
      "Failed to generate OTP: 401 {\"code\":\"900902\",\"message\":\"Missing Credentials\",\"description\":\"Invalid Credentials. Make sure your API invocation call has a header: 'Authorization : Bearer ACCESS_TOKEN' or 'Authorization : Basic ACCESS_TOKEN' or 'apikey: API_KEY'\"}\n"
     ]
    }
   ],
   "source": [
    "# Main Execution Flow\n",
    "if __name__ == \"__main__\":\n",
    "    # Inputs\n",
    "    consumer_key = \"MIML_AyI_Xadnb0MBJHCJ0VA7jca\"\n",
    "    consumer_secret = \"HbNirWqfRNXOloew_TbTDdvOW0Ua\"\n",
    "    mobile_number = \"+919818159195\"  # Replace with your actual mobile number\n",
    "    password = \"A@1234b\"  # Replace with your actual password\n",
    "    \n",
    "    # Step 1: Get Access Token\n",
    "    access_token = get_access_token(consumer_key, consumer_secret)\n",
    "    if access_token:\n",
    "        # Step 2: Get View Token\n",
    "        view_token, sid, response_data = get_view_token(access_token, mobile_number, password)\n",
    "        if view_token and sid:\n",
    "            # Step 3: Decode JWT to get User ID\n",
    "            user_id = decode_jwt(view_token)\n",
    "            print(\"User ID:\", user_id)\n",
    "\n",
    "            # Step 4: Generate OTP\n",
    "            otp = generate_otp(user_id)\n",
    "            if otp:\n",
    "                # Step 5: Generate Final Session Token\n",
    "                generate_final_session_token(sid, view_token, access_token, user_id, otp)"
   ]
  },
  {
   "cell_type": "code",
   "execution_count": null,
   "id": "88c2ed89-08b2-4fb3-8f82-1bb63c3cf9a1",
   "metadata": {},
   "outputs": [],
   "source": []
  }
 ],
 "metadata": {
  "kernelspec": {
   "display_name": "Python 3 (ipykernel)",
   "language": "python",
   "name": "python3"
  },
  "language_info": {
   "codemirror_mode": {
    "name": "ipython",
    "version": 3
   },
   "file_extension": ".py",
   "mimetype": "text/x-python",
   "name": "python",
   "nbconvert_exporter": "python",
   "pygments_lexer": "ipython3",
   "version": "3.11.5"
  }
 },
 "nbformat": 4,
 "nbformat_minor": 5
}
